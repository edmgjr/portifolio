{
  "nbformat": 4,
  "nbformat_minor": 0,
  "metadata": {
    "colab": {
      "name": "Analise Exploratória - Preços combustiveis.ipynb",
      "provenance": [],
      "collapsed_sections": [],
      "authorship_tag": "ABX9TyPv2Ga/cvryC2XR2dBTVo91",
      "include_colab_link": true
    },
    "kernelspec": {
      "name": "python3",
      "display_name": "Python 3"
    },
    "language_info": {
      "name": "python"
    }
  },
  "cells": [
    {
      "cell_type": "markdown",
      "metadata": {
        "id": "view-in-github",
        "colab_type": "text"
      },
      "source": [
        "<a href=\"https://colab.research.google.com/github/edmgjr/portifolio/blob/main/Analise_Explorat%C3%B3ria_Pre%C3%A7os_combustiveis.ipynb\" target=\"_parent\"><img src=\"https://colab.research.google.com/assets/colab-badge.svg\" alt=\"Open In Colab\"/></a>"
      ]
    },
    {
      "cell_type": "markdown",
      "metadata": {
        "id": "zo_5OIPDQgYR"
      },
      "source": [
        "###Pacotes usados neste Notebook"
      ]
    },
    {
      "cell_type": "code",
      "metadata": {
        "id": "aEgTxOmEPnE0"
      },
      "source": [
        "#importando pacotes\n",
        "import pandas as pd\n",
        "import seaborn as sns\n",
        "import matplotlib.pyplot as plt\n",
        "import numpy as np"
      ],
      "execution_count": 1,
      "outputs": []
    },
    {
      "cell_type": "markdown",
      "metadata": {
        "id": "4tbsAISMQ7hK"
      },
      "source": [
        "#1.Dataset"
      ]
    },
    {
      "cell_type": "markdown",
      "metadata": {
        "id": "7E8uzH1ZRNH8"
      },
      "source": [
        "Dataset: Gas Prices in Brazil: https://www.kaggle.com/matheusfreitag/gas-prices-in-brazil\n",
        "\n",
        "Este dataset contém os registros dos preços médios semanais dos combustíveis do Brasil entre os anos de 2004 e 2019.\n",
        "Cada observação (registro/linha) consiste em um registro de preço aferido para um dado tipo de combustível em uma dada localidade do Brasil.\n",
        "Alguns dos principais atributos (colunas) do dataset são: 'ESTADO', 'PRODUTO', 'NÚMERO DE POSTOS PESQUISADOS', 'PREÇO MÉDIO REVENDA'.\n",
        "\n",
        "O dataset utilizado neste notebook já foi pré-processado anteriormente."
      ]
    },
    {
      "cell_type": "markdown",
      "metadata": {
        "id": "YCF7S9EQSIvt"
      },
      "source": [
        "##1.1. Importando o Dataset"
      ]
    },
    {
      "cell_type": "code",
      "metadata": {
        "id": "8BD7xRudQ4sa"
      },
      "source": [
        "data = pd.read_csv('')"
      ],
      "execution_count": null,
      "outputs": []
    }
  ]
}